{
 "cells": [
  {
   "cell_type": "code",
   "execution_count": 3,
   "metadata": {
    "collapsed": true
   },
   "outputs": [],
   "source": [
    "import numpy as np\n",
    "import pandas as pd\n",
    "import data_helper"
   ]
  },
  {
   "cell_type": "markdown",
   "metadata": {},
   "source": [
    "## Cargando los Datos\n",
    "\n",
    "### Descripcion de los Datos\n",
    "\n",
    "**Area_Lote**: Area del lote en metros cuadrados\n",
    "\n",
    "**Precio**: Precio total de la propiedad en Quetzales"
   ]
  },
  {
   "cell_type": "code",
   "execution_count": 4,
   "metadata": {},
   "outputs": [],
   "source": [
    "data_casas = pd.read_csv('data_casas.csv')"
   ]
  },
  {
   "cell_type": "code",
   "execution_count": 7,
   "metadata": {},
   "outputs": [
    {
     "data": {
      "text/html": [
       "<div>\n",
       "<style>\n",
       "    .dataframe thead tr:only-child th {\n",
       "        text-align: right;\n",
       "    }\n",
       "\n",
       "    .dataframe thead th {\n",
       "        text-align: left;\n",
       "    }\n",
       "\n",
       "    .dataframe tbody tr th {\n",
       "        vertical-align: top;\n",
       "    }\n",
       "</style>\n",
       "<table border=\"1\" class=\"dataframe\">\n",
       "  <thead>\n",
       "    <tr style=\"text-align: right;\">\n",
       "      <th></th>\n",
       "      <th>Area_Lote</th>\n",
       "      <th>Precio</th>\n",
       "    </tr>\n",
       "  </thead>\n",
       "  <tbody>\n",
       "    <tr>\n",
       "      <th>0</th>\n",
       "      <td>6240</td>\n",
       "      <td>115000</td>\n",
       "    </tr>\n",
       "    <tr>\n",
       "      <th>1</th>\n",
       "      <td>11241</td>\n",
       "      <td>149000</td>\n",
       "    </tr>\n",
       "    <tr>\n",
       "      <th>2</th>\n",
       "      <td>10690</td>\n",
       "      <td>147000</td>\n",
       "    </tr>\n",
       "    <tr>\n",
       "      <th>3</th>\n",
       "      <td>9571</td>\n",
       "      <td>129000</td>\n",
       "    </tr>\n",
       "    <tr>\n",
       "      <th>4</th>\n",
       "      <td>7742</td>\n",
       "      <td>127000</td>\n",
       "    </tr>\n",
       "    <tr>\n",
       "      <th>5</th>\n",
       "      <td>8450</td>\n",
       "      <td>138500</td>\n",
       "    </tr>\n",
       "    <tr>\n",
       "      <th>6</th>\n",
       "      <td>8400</td>\n",
       "      <td>136500</td>\n",
       "    </tr>\n",
       "    <tr>\n",
       "      <th>7</th>\n",
       "      <td>6000</td>\n",
       "      <td>117000</td>\n",
       "    </tr>\n",
       "    <tr>\n",
       "      <th>8</th>\n",
       "      <td>13825</td>\n",
       "      <td>140000</td>\n",
       "    </tr>\n",
       "    <tr>\n",
       "      <th>9</th>\n",
       "      <td>8525</td>\n",
       "      <td>130000</td>\n",
       "    </tr>\n",
       "  </tbody>\n",
       "</table>\n",
       "</div>"
      ],
      "text/plain": [
       "   Area_Lote  Precio\n",
       "0       6240  115000\n",
       "1      11241  149000\n",
       "2      10690  147000\n",
       "3       9571  129000\n",
       "4       7742  127000\n",
       "5       8450  138500\n",
       "6       8400  136500\n",
       "7       6000  117000\n",
       "8      13825  140000\n",
       "9       8525  130000"
      ]
     },
     "execution_count": 7,
     "metadata": {},
     "output_type": "execute_result"
    }
   ],
   "source": [
    "data_casas.head(10)"
   ]
  },
  {
   "cell_type": "markdown",
   "metadata": {},
   "source": [
    "# Modelos de Regresion Lineal\n",
    "\n",
    "### Modelo 1  \n",
    "$y = 2.41262565 x + 107748.55024667$\n",
    "\n",
    "### Modelo 2  \n",
    "$y = 1.5322 x + 10790.55$\n",
    "\n",
    "### Modelo 3  \n",
    "$y = 3.12 x + 100750$"
   ]
  },
  {
   "cell_type": "code",
   "execution_count": 12,
   "metadata": {
    "collapsed": true
   },
   "outputs": [],
   "source": [
    "data_casas = data_helper.predict_price(data_casas)"
   ]
  },
  {
   "cell_type": "code",
   "execution_count": 13,
   "metadata": {
    "scrolled": true
   },
   "outputs": [
    {
     "data": {
      "text/html": [
       "<div>\n",
       "<style>\n",
       "    .dataframe thead tr:only-child th {\n",
       "        text-align: right;\n",
       "    }\n",
       "\n",
       "    .dataframe thead th {\n",
       "        text-align: left;\n",
       "    }\n",
       "\n",
       "    .dataframe tbody tr th {\n",
       "        vertical-align: top;\n",
       "    }\n",
       "</style>\n",
       "<table border=\"1\" class=\"dataframe\">\n",
       "  <thead>\n",
       "    <tr style=\"text-align: right;\">\n",
       "      <th></th>\n",
       "      <th>Area_Lote</th>\n",
       "      <th>Precio</th>\n",
       "      <th>y_modelo_1</th>\n",
       "      <th>y_modelo_2</th>\n",
       "      <th>y_modelo_3</th>\n",
       "    </tr>\n",
       "  </thead>\n",
       "  <tbody>\n",
       "    <tr>\n",
       "      <th>0</th>\n",
       "      <td>6240</td>\n",
       "      <td>115000</td>\n",
       "      <td>122803.334303</td>\n",
       "      <td>20351.4780</td>\n",
       "      <td>120218.80</td>\n",
       "    </tr>\n",
       "    <tr>\n",
       "      <th>1</th>\n",
       "      <td>11241</td>\n",
       "      <td>149000</td>\n",
       "      <td>134868.875178</td>\n",
       "      <td>28014.0102</td>\n",
       "      <td>135821.92</td>\n",
       "    </tr>\n",
       "    <tr>\n",
       "      <th>2</th>\n",
       "      <td>10690</td>\n",
       "      <td>147000</td>\n",
       "      <td>133539.518445</td>\n",
       "      <td>27169.7680</td>\n",
       "      <td>134102.80</td>\n",
       "    </tr>\n",
       "    <tr>\n",
       "      <th>3</th>\n",
       "      <td>9571</td>\n",
       "      <td>129000</td>\n",
       "      <td>130839.790343</td>\n",
       "      <td>25455.2362</td>\n",
       "      <td>130611.52</td>\n",
       "    </tr>\n",
       "    <tr>\n",
       "      <th>4</th>\n",
       "      <td>7742</td>\n",
       "      <td>127000</td>\n",
       "      <td>126427.098029</td>\n",
       "      <td>22652.8424</td>\n",
       "      <td>124905.04</td>\n",
       "    </tr>\n",
       "    <tr>\n",
       "      <th>5</th>\n",
       "      <td>8450</td>\n",
       "      <td>138500</td>\n",
       "      <td>128135.236989</td>\n",
       "      <td>23737.6400</td>\n",
       "      <td>127114.00</td>\n",
       "    </tr>\n",
       "    <tr>\n",
       "      <th>6</th>\n",
       "      <td>8400</td>\n",
       "      <td>136500</td>\n",
       "      <td>128014.605707</td>\n",
       "      <td>23661.0300</td>\n",
       "      <td>126958.00</td>\n",
       "    </tr>\n",
       "    <tr>\n",
       "      <th>7</th>\n",
       "      <td>6000</td>\n",
       "      <td>117000</td>\n",
       "      <td>122224.304147</td>\n",
       "      <td>19983.7500</td>\n",
       "      <td>119470.00</td>\n",
       "    </tr>\n",
       "    <tr>\n",
       "      <th>8</th>\n",
       "      <td>13825</td>\n",
       "      <td>140000</td>\n",
       "      <td>141103.099858</td>\n",
       "      <td>31973.2150</td>\n",
       "      <td>143884.00</td>\n",
       "    </tr>\n",
       "    <tr>\n",
       "      <th>9</th>\n",
       "      <td>8525</td>\n",
       "      <td>130000</td>\n",
       "      <td>128316.183913</td>\n",
       "      <td>23852.5550</td>\n",
       "      <td>127348.00</td>\n",
       "    </tr>\n",
       "  </tbody>\n",
       "</table>\n",
       "</div>"
      ],
      "text/plain": [
       "   Area_Lote  Precio     y_modelo_1  y_modelo_2  y_modelo_3\n",
       "0       6240  115000  122803.334303  20351.4780   120218.80\n",
       "1      11241  149000  134868.875178  28014.0102   135821.92\n",
       "2      10690  147000  133539.518445  27169.7680   134102.80\n",
       "3       9571  129000  130839.790343  25455.2362   130611.52\n",
       "4       7742  127000  126427.098029  22652.8424   124905.04\n",
       "5       8450  138500  128135.236989  23737.6400   127114.00\n",
       "6       8400  136500  128014.605707  23661.0300   126958.00\n",
       "7       6000  117000  122224.304147  19983.7500   119470.00\n",
       "8      13825  140000  141103.099858  31973.2150   143884.00\n",
       "9       8525  130000  128316.183913  23852.5550   127348.00"
      ]
     },
     "execution_count": 13,
     "metadata": {},
     "output_type": "execute_result"
    }
   ],
   "source": [
    "data_casas.head(10)"
   ]
  },
  {
   "cell_type": "markdown",
   "metadata": {},
   "source": [
    "# Evaluando los modelos\n",
    "\n",
    "En esta celda debes implementar una funcion para calcular el MSE\n",
    "\n",
    "$\\operatorname {MSE} ={\\frac {1}{n}}\\sum _{i=1}^{n}(Y_{i}-{\\hat {Y_{i}}})^{2}$\n",
    "\n",
    "\n",
    "###### Ayuda con el codigo de python\n",
    "\n",
    "Para obtener en un vector todos los elementos de una columna:\n",
    "```\n",
    "y = data_casas['Precio'] \n",
    "```\n",
    "\n",
    "Para elevar al cuadrado con numpy:\n",
    "```\n",
    "np.square( x )\n",
    "```\n",
    "\n",
    "Para hacer la sumatoria de un vector con numpy:\n",
    "```\n",
    "np.sum( x )\n",
    "```\n",
    "\n",
    "Obtener la longitud de un vector:\n",
    "```\n",
    "len(y)\n",
    "```"
   ]
  },
  {
   "cell_type": "code",
   "execution_count": 20,
   "metadata": {},
   "outputs": [
    {
     "name": "stdout",
     "output_type": "stream",
     "text": [
      "El error para el modelo 1 es 50252751.57642537\n",
      "El error para el modelo 2 es 11071481396.421818\n",
      "El error para el modelo 3 es 54849053.77928299\n"
     ]
    }
   ],
   "source": [
    "y = data_casas['Precio']\n",
    "y_hat1 = data_casas['y_modelo_1']\n",
    "y_hat2= data_casas['y_modelo_2']\n",
    "y_hat3= data_casas['y_modelo_3']\n",
    "\n",
    "n = len(y)\n",
    "\n",
    "mse1 = (1/n)*(np.sum(np.square(y-y_hat1)))\n",
    "print ('El error para el modelo 1 es',mse1)\n",
    "\n",
    "mse2 = (1/n)*(np.sum(np.square(y-y_hat2)))\n",
    "print ('El error para el modelo 2 es',mse2)\n",
    "\n",
    "mse3 = (1/n)*(np.sum(np.square(y-y_hat3)))\n",
    "print ('El error para el modelo 3 es',mse3)"
   ]
  },
  {
   "cell_type": "markdown",
   "metadata": {},
   "source": [
    "## Utilizando la funcion  MSE de Scikit Learn\n",
    "\n",
    "##### No es necesario ejecutar esta celda es solo una referencia para evaluar tus resultados\n",
    "\n",
    "Evalua tus resultados:"
   ]
  },
  {
   "cell_type": "code",
   "execution_count": 6,
   "metadata": {},
   "outputs": [
    {
     "name": "stdout",
     "output_type": "stream",
     "text": [
      "Mean squared error [Modelo 1]: 50252751.58\n",
      "Mean squared error [Modelo 2]: 11071481396.42\n",
      "Mean squared error [Modelo 3]: 54849053.78\n"
     ]
    }
   ],
   "source": [
    "from sklearn.metrics import mean_squared_error\n",
    "\n",
    "print(\"Mean squared error [Modelo 1]: %.2f\"\n",
    "      % mean_squared_error(data_casas['Precio'], data_casas['y_modelo_1']))\n",
    "\n",
    "print(\"Mean squared error [Modelo 2]: %.2f\"\n",
    "      % mean_squared_error(data_casas['Precio'], data_casas['y_modelo_2']))\n",
    "\n",
    "print(\"Mean squared error [Modelo 3]: %.2f\"\n",
    "      % mean_squared_error(data_casas['Precio'], data_casas['y_modelo_3']))"
   ]
  },
  {
   "cell_type": "markdown",
   "metadata": {
    "collapsed": true
   },
   "source": [
    "## Concluir cual de los tres modelos es el mas adecuado"
   ]
  },
  {
   "cell_type": "markdown",
   "metadata": {},
   "source": [
    "Acorde al cálculo del error mínimo cuadrático manual, el cuál se ha comparado con lo obtenido por el paquete SciKit Learn para asgurar la obtención de la estimación del error correcta. Se puede observar que el modelo más efectivo para predecir los resultados del precio de las casas acorde a su tamaño es el modelo 1 ya que su error mínimo cuadrático es menor que el de los otros 2 modelos. "
   ]
  }
 ],
 "metadata": {
  "kernelspec": {
   "display_name": "Python 3",
   "language": "python",
   "name": "python3"
  },
  "language_info": {
   "codemirror_mode": {
    "name": "ipython",
    "version": 3
   },
   "file_extension": ".py",
   "mimetype": "text/x-python",
   "name": "python",
   "nbconvert_exporter": "python",
   "pygments_lexer": "ipython3",
   "version": "3.6.3"
  }
 },
 "nbformat": 4,
 "nbformat_minor": 2
}
